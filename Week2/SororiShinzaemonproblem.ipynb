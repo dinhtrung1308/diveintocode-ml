{
  "nbformat": 4,
  "nbformat_minor": 0,
  "metadata": {
    "colab": {
      "name": "SororiShinzaemonproblem.ipynb",
      "provenance": []
    },
    "kernelspec": {
      "name": "python3",
      "display_name": "Python 3"
    }
  },
  "cells": [
    {
      "cell_type": "markdown",
      "metadata": {
        "id": "oDUS09xFeaAa"
      },
      "source": [
        "【Problem 1] Number of grains of rice on the 100th day\r\n",
        "\r\n"
      ]
    },
    {
      "cell_type": "code",
      "metadata": {
        "colab": {
          "base_uri": "https://localhost:8080/"
        },
        "id": "yXHEeKdIegzf",
        "outputId": "5787ee4a-a489-414f-f2c1-c8d80a040cf2"
      },
      "source": [
        "\r\n",
        "list_grains = [1]\r\n",
        "list_total_grains = [0]\r\n",
        "\r\n",
        "for i in range(0,99):\r\n",
        "    list_grains.append(list_grains[i]*2)\r\n",
        "    list_total_grains.append(sum(list_grains))\r\n",
        "print(\"Total: {} grains.\".format(list_grains[len(list_grains)-1]))\r\n"
      ],
      "execution_count": 22,
      "outputs": [
        {
          "output_type": "stream",
          "text": [
            "Total: 633825300114114700748351602688 grains.\n"
          ],
          "name": "stdout"
        }
      ]
    },
    {
      "cell_type": "code",
      "metadata": {
        "colab": {
          "base_uri": "https://localhost:8080/",
          "height": 290
        },
        "id": "H9aHkabSf7I5",
        "outputId": "c79a42a2-7373-4f67-89dd-2678514b5dc8"
      },
      "source": [
        "\r\n",
        "import matplotlib.pyplot as plt\r\n",
        "plt.xlabel(\"Date\")\r\n",
        "plt.ylabel(\"Rice\")\r\n",
        "plt.tick_params(labelsize=10)\r\n",
        "plt.plot(list_grains, color='red') \r\n",
        "plt.plot(list_total_grains, color='yellow') \r\n",
        "plt.show()"
      ],
      "execution_count": 26,
      "outputs": [
        {
          "output_type": "display_data",
          "data": {
            "image/png": "[encoded data removed]",
            "text/plain": [
              "<Figure size 432x288 with 1 Axes>"
            ]
          },
          "metadata": {
            "tags": [],
            "needs_background": "light"
          }
        }
      ]
    },
    {
      "cell_type": "markdown",
      "metadata": {
        "id": "yA2I3OYfjh6S"
      },
      "source": [
        "【Problem 2] Number of rice grains outside of the 100th day"
      ]
    },
    {
      "cell_type": "code",
      "metadata": {
        "colab": {
          "base_uri": "https://localhost:8080/",
          "height": 590
        },
        "id": "uJrhQY-RjpxD",
        "outputId": "4a632ef9-5185-4066-f7a5-9b29e04fa94c"
      },
      "source": [
        "def compute_sorori_shinzaemon(day=100):\r\n",
        "  \"\"\" Lrice is the list describes the number of rice received per day while Ltotal is the list presents the total rice receive from day 1 until the ith day\"\"\"\r\n",
        "  Lrice = [1] \r\n",
        "  Ltotal = [1]\r\n",
        "  for i in range(1,day):\r\n",
        "    Lrice.append(Lrice[i-1]*2)\r\n",
        "    Ltotal.append(Ltotal[i-1] + Lrice[i]) # the total rice on previous day plus the day receive in today\r\n",
        "  plt.title(\"The number of rice per day\")\r\n",
        "  plt.xlabel(\"days\")\r\n",
        "  plt.ylabel(\"grain of rice\")\r\n",
        "  plt.plot(list(range(1,day + 1)),Lrice)\r\n",
        "  \r\n",
        "  plt.show()\r\n",
        "  plt.title(\"The total of rice\")\r\n",
        "  plt.xlabel(\"days\")\r\n",
        "  plt.ylabel(\"grain of rice\")\r\n",
        "  plt.plot(list(range(1,day + 1)),Ltotal)\r\n",
        "  \r\n",
        "  plt.show()\r\n",
        "  return Lrice, Ltotal\r\n",
        "list_n_grains, list_total_grains = compute_sorori_shinzaemon(day=118)\r\n",
        "print(\"In day 118, we receive {} grains of rice and, receive total {} grains of rice in 118 day\".format(list_n_grains[117],list_total_grains[117]))"
      ],
      "execution_count": 33,
      "outputs": [
        {
          "output_type": "display_data",
          "data": {
            "image/png": "[encoded data removed]",
            "text/plain": [
              "<Figure size 432x288 with 1 Axes>"
            ]
          },
          "metadata": {
            "tags": [],
            "needs_background": "light"
          }
        },
        {
          "output_type": "display_data",
          "data": {
            "image/png": "[encoded data removed]",
            "text/plain": [
              "<Figure size 432x288 with 1 Axes>"
            ]
          },
          "metadata": {
            "tags": [],
            "needs_background": "light"
          }
        },
        {
          "output_type": "stream",
          "text": [
            "In day 118, we receive 166153499473114484112975882535043072 grains of rice and, receive total 332306998946228968225951765070086143 grains of rice in 118 day\n"
          ],
          "name": "stdout"
        }
      ]
    },
    {
      "cell_type": "markdown",
      "metadata": {
        "id": "69dbVoMqlcld"
      },
      "source": [
        "【Problem 3] How many people can live for how many days with the rice we get?"
      ]
    },
    {
      "cell_type": "code",
      "metadata": {
        "colab": {
          "base_uri": "https://localhost:8080/"
        },
        "id": "oGXKJQ1Hlc6p",
        "outputId": "9ab8f173-c054-4907-fba6-0a83022fd078"
      },
      "source": [
        "\r\n",
        "def calday(rice,people):\r\n",
        "  day = rice / (people * 4084)\r\n",
        "  return day\r\n",
        "print(\"40 people can survive {} days with the amount of rice receive in 118 days\".format(calday(list_total_grains[117],40)))"
      ],
      "execution_count": 36,
      "outputs": [
        {
          "output_type": "stream",
          "text": [
            "40 people can survive 2.034200532236955e+30 days with the amount of rice receive in 118 days\n"
          ],
          "name": "stdout"
        }
      ]
    }
  ]
}