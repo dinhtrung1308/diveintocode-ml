{
  "nbformat": 4,
  "nbformat_minor": 0,
  "metadata": {
    "colab": {
      "name": "MtFuji.ipynb",
      "provenance": []
    },
    "kernelspec": {
      "name": "python3",
      "display_name": "Python 3"
    }
  },
  "cells": [
    {
      "cell_type": "markdown",
      "metadata": {
        "id": "WN15ZWRWojwk"
      },
      "source": [
        "\r\n",
        "[Problem 1] Minimum number of folds over Mt. Fuji\r\n"
      ]
    },
    {
      "cell_type": "code",
      "metadata": {
        "colab": {
          "base_uri": "https://localhost:8080/"
        },
        "id": "oUNfM319oW8o",
        "outputId": "8882ae6d-8fe8-4924-a69a-2f5eedb67e4e"
      },
      "source": [
        "THICKNESS = 8e-8 \r\n",
        "MTFUJI_HEIGHT = 3.776 \r\n",
        "folded_thickness = THICKNESS\r\n",
        "times_folded = 0\r\n",
        "while(folded_thickness < MTFUJI_HEIGHT):\r\n",
        "  folded_thickness *= 2\r\n",
        "  times_folded += 1\r\n",
        "print(\"The thickness of paper exceeded Mt.Fuji (3776m) after folding {} times.\".format(times_folded))"
      ],
      "execution_count": 2,
      "outputs": [
        {
          "output_type": "stream",
          "text": [
            "The thickness of paper exceeded Mt.Fuji (3776m) after folding 26 times.\n"
          ],
          "name": "stdout"
        }
      ]
    },
    {
      "cell_type": "markdown",
      "metadata": {
        "id": "gMMoVeF-omqO"
      },
      "source": [
        "\r\n",
        "[Problem 2] Creating a function corresponding to an arbitrary thickness\r\n"
      ]
    },
    {
      "cell_type": "code",
      "metadata": {
        "colab": {
          "base_uri": "https://localhost:8080/"
        },
        "id": "vizaI1vEpGyH",
        "outputId": "01cd6bc1-a7cf-4fe2-d4c1-8463e53d97bb"
      },
      "source": [
        "closestToNonSunStar= 4.0175e+13\r\n",
        "def times_fold_to_reach(distance, thickness = THICKNESS):\r\n",
        "    folded_thickness = thickness\r\n",
        "    times_folded = 0\r\n",
        "    while(folded_thickness < distance):\r\n",
        "        folded_thickness *= 2\r\n",
        "        times_folded += 1\r\n",
        "    return times_folded\r\n",
        "print(\"Number of times you have to bend the paper to reach the \\\"closest non-Sun star\\\": {} \".format(times_fold_to_reach(closestToNonSunStar)))"
      ],
      "execution_count": 8,
      "outputs": [
        {
          "output_type": "stream",
          "text": [
            "Number of times you have to bend the paper to reach the \"closest non-Sun star\": 69 \n"
          ],
          "name": "stdout"
        }
      ]
    },
    {
      "cell_type": "markdown",
      "metadata": {
        "id": "DFaJaKJEor5T"
      },
      "source": [
        "[Problem 3] Required paper length"
      ]
    },
    {
      "cell_type": "code",
      "metadata": {
        "colab": {
          "base_uri": "https://localhost:8080/"
        },
        "id": "vz7JAJ2jpyId",
        "outputId": "2be7657f-704c-49dd-90c7-56bfdf495e40"
      },
      "source": [
        "import math\r\n",
        "def length_of_paper_needed_to_fold(distance, thickness = THICKNESS):\r\n",
        "    folded_thickness = thickness\r\n",
        "    times_folded  = times_fold_to_reach(distance)\r\n",
        "    length_paper_needed = (math.pi*thickness)/6 * (2**times_folded + 4) * (2**times_folded - 1)\r\n",
        "    return length_paper_needed\r\n",
        "distanceToMoon = 384400 \r\n",
        "print(\"Length of the paper needed to reach the \\\"Moon\\\": {:.2f} kilometers \".format(length_of_paper_needed_to_fold(distanceToMoon)))\r\n",
        "print(\"Length of the paper needed to reach the \\\"Mt.Fuji\\\": {:.2f} kilometers \".format(length_of_paper_needed_to_fold(MTFUJI_HEIGHT)))\r\n",
        "print(\"Length of the paper needed to reach the \\\"closest non-Sun star\\\": {:.2f} kilometers \".format(length_of_paper_needed_to_fold(closestToNonSunStar)))"
      ],
      "execution_count": 11,
      "outputs": [
        {
          "output_type": "stream",
          "text": [
            "Length of the paper needed to reach the \"Moon\": 3240919444170780672.00 kilometers \n",
            "Length of the paper needed to reach the \"Mt.Fuji\": 188646348.49 kilometers \n",
            "Length of the paper needed to reach the \"closest non-Sun star\": 14595803601100344534048614534610944.00 kilometers \n"
          ],
          "name": "stdout"
        }
      ]
    }
  ]
}